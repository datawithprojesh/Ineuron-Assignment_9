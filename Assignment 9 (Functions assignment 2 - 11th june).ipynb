{
 "cells": [
  {
   "cell_type": "markdown",
   "id": "e3239a5d",
   "metadata": {},
   "source": [
    "### Q1. What is a lambda function in Python, and how does it differ from a regular function?"
   ]
  },
  {
   "cell_type": "markdown",
   "id": "e6d365bb",
   "metadata": {},
   "source": [
    "#### In Python, a lambda function is a small anonymous function that can be defined without a name. It is created using the lambda keyword and is typically used for simple, one-line operations. Lambda functions are also known as anonymous functions because they don't require a formal name declaration like regular functions.\n",
    "\n",
    "Here's the general syntax of a lambda function:\n",
    "\n",
    "#### lambda arguments: expression\n",
    "\n",
    "If we compare a lambda function with a regular function to understand the differences:\n",
    "\n",
    "1. Syntax: Lambda functions are defined using a single line of code, whereas regular functions use the def keyword followed by the function name, parentheses for arguments, and a colon to indicate the start of the function block.\n",
    "\n",
    "2. Name: Lambda functions are anonymous, which means they don't have a name associated with them. Regular functions are named entities in Python.\n",
    "\n",
    "3. Complexity: Lambda functions are typically used for simple, concise operations that can be expressed in a single line of code. Regular functions can have multiple lines of code, allowing for more complex logic and operations.\n",
    "\n",
    "4. Return value: Lambda functions automatically return the value of the expression without using a return statement. Regular functions require an explicit return statement to return a value.\n",
    "\n",
    "\n",
    "#### Lambda function to double a number\n",
    "double = lambda x: x * 2\n",
    "\n",
    "print(double(5))  \n",
    "#### Output: 10\n",
    "\n",
    "#### Equivalent regular function\n",
    "def double_func(x):\n",
    "   \n",
    "   return x * 2\n",
    "\n",
    "print(double_func(5))  \n",
    "#### Output: 10\n",
    "\n",
    "\n",
    "Lambda functions are particularly useful when you need a simple function for a specific purpose and don't want to define a separate named function. They are commonly used in functional programming, in combination with built-in functions like map(), filter(), and reduce(), to write concise and expressive code."
   ]
  },
  {
   "cell_type": "markdown",
   "id": "79b8d233",
   "metadata": {},
   "source": [
    "### Q2. Can a lambda function in Python have multiple arguments? If yes, how can you define and use them?"
   ]
  },
  {
   "cell_type": "markdown",
   "id": "284a71e6",
   "metadata": {},
   "source": [
    "#### Yes, a lambda function in Python can have multiple arguments. You can define and use multiple arguments in a lambda function by separating them with commas within the parentheses.\n",
    "\n",
    "Here's an example of a lambda function with multiple arguments:\n",
    "\n",
    "#### Lambda function to calculate the sum of two numbers\n",
    "add = lambda x, y: x + y\n",
    "print(add(3, 5))  \n",
    "#### Output: 8\n"
   ]
  },
  {
   "cell_type": "markdown",
   "id": "2a204a86",
   "metadata": {},
   "source": [
    "### Q3. How are lambda functions typically used in Python? Provide an example use case.\n"
   ]
  },
  {
   "cell_type": "markdown",
   "id": "2f8d0251",
   "metadata": {},
   "source": [
    "#### Lambda functions in Python are commonly used in combination with higher-order functions like map(), filter(), and reduce(). These higher-order functions accept functions as arguments, and lambda functions provide a convenient way to define simple functions on the fly without the need for a separate named function.\n",
    "\n",
    "Here's an example use case of lambda functions with the map() function:\n",
    "\n",
    "#### List of numbers\n",
    "numbers = [1, 2, 3, 4, 5]\n",
    "\n",
    "#### Use filter() with a lambda function to filter even numbers\n",
    "even_numbers = list(filter(lambda x: x % 2 == 0, numbers))\n",
    "print(even_numbers)  \n",
    "#### Output: [2, 4]\n"
   ]
  },
  {
   "cell_type": "markdown",
   "id": "a22d9f3a",
   "metadata": {},
   "source": [
    "### Q4. What are the advantages and limitations of lambda functions compared to regular functions in Python?"
   ]
  },
  {
   "cell_type": "markdown",
   "id": "062edd56",
   "metadata": {},
   "source": [
    "#### Lambda functions in Python have certain advantages and limitations compared to regular functions. Let's discuss them:\n",
    "\n",
    "#### Advantages of Lambda Functions:\n",
    "\n",
    "- Concise and Readable Code: Lambda functions allow you to express simple functions in a concise and readable manner. They are typically used for short, one-line operations, eliminating the need for defining a separate named function.\n",
    "\n",
    "- Inline Definition: Lambda functions are defined inline at the point of use, making the code more compact and eliminating the need for cluttering the code with additional function definitions.\n",
    "    \n",
    "    \n",
    "#### Limitations of Lambda Functions:\n",
    "\n",
    "- Reduced Reusability: Due to their anonymous nature, lambda functions cannot be reused or called from multiple locations within your code. If you need to use the same logic repeatedly, it's more appropriate to define a regular named function.\n",
    "\n",
    "- Lack of Complex Control Flow: Lambda functions cannot include complex control flow structures like loops or conditional statements. They are limited to simple expressions, which can restrict their usefulness for more intricate operations."
   ]
  },
  {
   "cell_type": "markdown",
   "id": "8563bf36",
   "metadata": {},
   "source": [
    "### Q5. Are lambda functions in Python able to access variables defined outside of their own scope? Explain with an example."
   ]
  },
  {
   "cell_type": "markdown",
   "id": "7b5fea02",
   "metadata": {},
   "source": [
    "#### Yes, lambda functions in Python can access variables defined outside of their own scope. This is achieved through lexical scoping, where lambda functions can \"capture\" variables from their surrounding environment.\n",
    "\n",
    "Here's an example to illustrate how lambda functions can access variables from their outer scope:\n",
    "\n",
    "def outer_function():\n",
    "    \n",
    "    x = 10\n",
    "   \n",
    "    lambda_func = lambda y: x + y\n",
    "    \n",
    "    return lambda_func\n",
    "\n",
    "lambda_function = outer_function()\n",
    "\n",
    "result = lambda_function(5)\n",
    "\n",
    "print(result)  # Output: 15\n",
    "\n",
    "It's important to note that lambda functions can only access variables from their outer scope if those variables are accessible at the time the lambda function is defined. If the outer variables change after the lambda function is defined, the lambda function will use the updated values when called.\n"
   ]
  },
  {
   "cell_type": "markdown",
   "id": "9cb4a0c6",
   "metadata": {},
   "source": [
    "### Q6. Write a lambda function to calculate the square of a given number."
   ]
  },
  {
   "cell_type": "code",
   "execution_count": 5,
   "id": "48e3e11f",
   "metadata": {},
   "outputs": [
    {
     "name": "stdout",
     "output_type": "stream",
     "text": [
      "Enter a no to find its Square: 4\n",
      "16\n"
     ]
    }
   ],
   "source": [
    "x = int(input('Enter a no to find its Square: '))\n",
    "square = lambda x : x ** 2\n",
    "\n",
    "print(square(x))"
   ]
  },
  {
   "cell_type": "markdown",
   "id": "68e59a9d",
   "metadata": {},
   "source": [
    "### Q7. Create a lambda function to find the maximum value in a list of integers."
   ]
  },
  {
   "cell_type": "code",
   "execution_count": 19,
   "id": "1cbc3086",
   "metadata": {},
   "outputs": [
    {
     "name": "stdout",
     "output_type": "stream",
     "text": [
      "Enter a list of nos (seperated by spaces): 23 34 22 45 12\n",
      "Here is the list entered by you:  [23, 34, 22, 45, 12]\n",
      "\n",
      "Here is the max value from your list\n",
      "45\n"
     ]
    }
   ],
   "source": [
    "# taking a list of value from user\n",
    "input_list = input('Enter a list of nos (seperated by spaces): ')\n",
    "\n",
    "# spliting each value to convert them in list in next step\n",
    "x = input_list.split()\n",
    "\n",
    "# using a for loop to store the values in a list\n",
    "mylist = [int(i) for i in x]\n",
    "\n",
    "print('Here is the list entered by you: ', mylist)\n",
    "\n",
    "# now using lambda function finding the max\n",
    "find_max = lambda mylist : max(mylist)\n",
    "\n",
    "print('\\nHere is the max value from your list')\n",
    "print(find_max(mylist))"
   ]
  },
  {
   "cell_type": "markdown",
   "id": "24d89cdf",
   "metadata": {},
   "source": [
    "### Q8. Implement a lambda function to filter out all the even numbers from a list of integers."
   ]
  },
  {
   "cell_type": "code",
   "execution_count": 33,
   "id": "d0034f74",
   "metadata": {
    "scrolled": true
   },
   "outputs": [
    {
     "name": "stdout",
     "output_type": "stream",
     "text": [
      "Enter a list of nos (seperated by spaces): 12 23 21 24 26\n",
      "Here is the list entered by you:  [12, 23, 21, 24, 26]\n",
      "\n",
      "Even nos from your lists: \n",
      "[12, 24, 26]\n"
     ]
    }
   ],
   "source": [
    "# taking a list of value from user\n",
    "input_list = input('Enter a list of nos (seperated by spaces): ')\n",
    "\n",
    "# spliting each value to convert them in list in next step\n",
    "x = input_list.split()\n",
    "\n",
    "# using a for loop to store the values in a list\n",
    "mylist = [int(i) for i in x]\n",
    "\n",
    "print('Here is the list entered by you: ', mylist)\n",
    "\n",
    "# now using lambda function to get even nos\n",
    "filter_even = lambda even : list(filter(lambda x : x % 2 == 0, even))\n",
    "\n",
    "even_numbers = filter_even(mylist)\n",
    "print('\\nEven nos from your lists: ')\n",
    "print(even_numbers)"
   ]
  },
  {
   "cell_type": "markdown",
   "id": "8d053db1",
   "metadata": {},
   "source": [
    "### Q9. Write a lambda function to sort a list of strings in ascending order based on the length of each string."
   ]
  },
  {
   "cell_type": "code",
   "execution_count": 60,
   "id": "4e871b0e",
   "metadata": {},
   "outputs": [
    {
     "name": "stdout",
     "output_type": "stream",
     "text": [
      "Enter a list of nos (seperated by spaces): date apple projesh datascience\n",
      "Here is the list entered by you:  ['date', 'apple', 'projesh', 'datascience']\n",
      "\n",
      "Your Sorted List: \n",
      "['date', 'apple', 'projesh', 'datascience']\n"
     ]
    }
   ],
   "source": [
    "# taking a list of value from user\n",
    "input_list = input('Enter a list of nos (seperated by spaces): ')\n",
    "\n",
    "# spliting each value to convert them in list in next step\n",
    "x = input_list.split()\n",
    "\n",
    "# using a for loop to store the values in a list\n",
    "mylist = [str(i) for i in x]\n",
    "\n",
    "print('Here is the list entered by you: ', mylist)\n",
    "\n",
    "\n",
    "sorting_function = lambda sort: sorted(sort, key=lambda x: len(x))\n",
    "\n",
    "print('\\nYour Sorted List: ')\n",
    "sorted_strings = sorting_function(mylist)\n",
    "print(sorted_strings)"
   ]
  },
  {
   "cell_type": "markdown",
   "id": "19d4361e",
   "metadata": {},
   "source": [
    "### Q10. Create a lambda function that takes two lists as input and returns a new list containing the common elements between the two lists."
   ]
  },
  {
   "cell_type": "code",
   "execution_count": 72,
   "id": "cd82dbff",
   "metadata": {},
   "outputs": [
    {
     "name": "stdout",
     "output_type": "stream",
     "text": [
      "Enter your 1st list of nos (seperated by spaces): 1 2 3 4 5 6\n",
      "Enter your 2nd list of nos (seperated by spaces): 2 3 4 7 8\n",
      "Here is the list entered by you:  [1, 2, 3, 4, 5, 6] [2, 3, 4, 7, 8]\n",
      "\n",
      "Here is a list of all common elements from your lists: \n",
      "[2, 3, 4]\n"
     ]
    }
   ],
   "source": [
    "# taking a list of value from user\n",
    "input_list1 = input('Enter your 1st list of nos (seperated by spaces): ')\n",
    "input_list2 = input('Enter your 2nd list of nos (seperated by spaces): ')\n",
    "\n",
    "# spliting each value to convert them in list in next step\n",
    "x = input_list1.split()\n",
    "y = input_list2.split()\n",
    "\n",
    "# using a for loop to store the values in a list\n",
    "mylist1 = [int(i) for i in x]\n",
    "mylist2 = [int(i) for i in y]\n",
    "\n",
    "print('Here is the list entered by you: ', mylist1, mylist2)\n",
    "\n",
    "# now to do intersection we need to convert our list into sets\n",
    "set1 = set([int(i) for i in x])\n",
    "set2 = set([int(i) for i in y])\n",
    "\n",
    "# using lambda function finding common elements and putting them in a list\n",
    "intersection_list = lambda mylist1, mylist2 : list(set1.intersection(set2))\n",
    "\n",
    "print('\\nHere is a list of all common elements from your lists: ')\n",
    "print(intersection_list(mylist1,mylist2))"
   ]
  },
  {
   "cell_type": "markdown",
   "id": "5d0095c8",
   "metadata": {},
   "source": [
    "### Q11. Write a recursive function to calculate the factorial of a given positive integer."
   ]
  },
  {
   "cell_type": "code",
   "execution_count": 75,
   "id": "8b08d142",
   "metadata": {},
   "outputs": [
    {
     "name": "stdout",
     "output_type": "stream",
     "text": [
      "Enter a no to find its Factorial: 5\n",
      "120\n"
     ]
    }
   ],
   "source": [
    "# find factorial using recursion\n",
    "\n",
    "def factorial(n = int (input('Enter a no to find its Factorial: '))):\n",
    "    if n <= 0:\n",
    "        print(\"Please enter a positive integer!\")\n",
    "    elif n == 1:\n",
    "        return 1\n",
    "    else:\n",
    "        return n * factorial(n-1)\n",
    "\n",
    "print(factorial())"
   ]
  },
  {
   "cell_type": "markdown",
   "id": "c6485be6",
   "metadata": {},
   "source": [
    "### Q12. Implement a recursive function to compute the nth Fibonacci number."
   ]
  },
  {
   "cell_type": "code",
   "execution_count": 79,
   "id": "3705c502",
   "metadata": {
    "scrolled": true
   },
   "outputs": [
    {
     "name": "stdout",
     "output_type": "stream",
     "text": [
      "Enter a positive no: 4\n",
      "\n",
      "Your answer is: \n",
      "3\n"
     ]
    }
   ],
   "source": [
    "def fibonacci_no(n = int(input('Enter a positive no: '))):\n",
    "    if n <= 0:\n",
    "        return \"Invalid input. n must be a positive integer.\"\n",
    "    elif n == 1 or n == 2:\n",
    "        return 1\n",
    "    else:\n",
    "        return fibonacci_no(n - 1) + fibonacci_no(n - 2)\n",
    "print('\\nYour answer is: ')\n",
    "print(fibonacci_no()) "
   ]
  },
  {
   "cell_type": "markdown",
   "id": "7b06fdd3",
   "metadata": {},
   "source": [
    "### Q13. Create a recursive function to find the sum of all the elements in a given list."
   ]
  },
  {
   "cell_type": "code",
   "execution_count": 2,
   "id": "d0156ccb",
   "metadata": {},
   "outputs": [
    {
     "name": "stdout",
     "output_type": "stream",
     "text": [
      "Enter a list of nos (seperated by spaces): 1 2 3\n",
      "Here is the list entered by you:  [1, 2, 3]\n",
      "\n",
      "Here is the sum of all elements from your list:\n",
      "6\n"
     ]
    }
   ],
   "source": [
    "# taking a list of value from user\n",
    "input_list = input('Enter a list of nos (seperated by spaces): ')\n",
    "\n",
    "# spliting each value to convert them in list in next step\n",
    "x = input_list.split()\n",
    "\n",
    "# using a for loop to store the values in a list\n",
    "mylist = [int(i) for i in x]\n",
    "\n",
    "print('Here is the list entered by you: ', mylist)\n",
    "\n",
    "# now using recursive function we will find the sum\n",
    "def recursive_sum(mylist):\n",
    "    if not mylist:\n",
    "        return 0\n",
    "    else:\n",
    "        return mylist[0] + recursive_sum(mylist[1:])\n",
    "\n",
    "sum_of_elements = recursive_sum(mylist)\n",
    "print('\\nHere is the sum of all elements from your list:')\n",
    "print(sum_of_elements)\n"
   ]
  },
  {
   "cell_type": "markdown",
   "id": "5833975e",
   "metadata": {},
   "source": [
    "### Q14. Write a recursive function to determine whether a given string is a palindrome."
   ]
  },
  {
   "cell_type": "code",
   "execution_count": 6,
   "id": "42430b9a",
   "metadata": {},
   "outputs": [
    {
     "name": "stdout",
     "output_type": "stream",
     "text": [
      "Enter your String: abba\n",
      "\n",
      "Your word is: \n",
      "Palindrome!\n"
     ]
    }
   ],
   "source": [
    "# taking a string as an inout from user\n",
    "string = str(input('Enter your String: '))\n",
    "\n",
    "# using a recursion function to check palindrome or not\n",
    "def is_palindrome(string):\n",
    "    if len(string) <= 1:\n",
    "        return 'Palindrome!'\n",
    "    elif string[0] != string[-1]:\n",
    "        return 'Not Palindrome!'\n",
    "    else:\n",
    "        return is_palindrome(string[1:-1])\n",
    "    \n",
    "# printing the result    \n",
    "print('\\nYour word is: ')\n",
    "print(is_palindrome(string))  # Output: True\n"
   ]
  },
  {
   "cell_type": "markdown",
   "id": "8e2edddc",
   "metadata": {},
   "source": [
    "### Q15. Implement a recursive function to find the greatest common divisor (GCD) of two positive integers."
   ]
  },
  {
   "cell_type": "code",
   "execution_count": 14,
   "id": "672ba872",
   "metadata": {},
   "outputs": [
    {
     "name": "stdout",
     "output_type": "stream",
     "text": [
      "Enter your 1st no: 12\n",
      "Enter your 2nd no: 21\n",
      "\n",
      "The GCD of  12  and  21  is: \n",
      "3\n"
     ]
    }
   ],
   "source": [
    "n1 = int(input('Enter your 1st no: '))\n",
    "n2 = int(input('Enter your 2nd no: '))\n",
    "\n",
    "def recursion_gcd(n1, n2):\n",
    "    if n2 == 0:\n",
    "        return n1\n",
    "    else:\n",
    "        return recursion_gcd(n2, n1 % n2)\n",
    "\n",
    "print('\\nThe GCD of ', n1, ' and ', n2,' is: ')    \n",
    "print(recursion_gcd(n1, n2))"
   ]
  },
  {
   "cell_type": "code",
   "execution_count": null,
   "id": "58386d33",
   "metadata": {},
   "outputs": [],
   "source": []
  },
  {
   "cell_type": "code",
   "execution_count": null,
   "id": "91c368c0",
   "metadata": {},
   "outputs": [],
   "source": []
  },
  {
   "cell_type": "code",
   "execution_count": null,
   "id": "5e74f591",
   "metadata": {},
   "outputs": [],
   "source": []
  },
  {
   "cell_type": "code",
   "execution_count": null,
   "id": "712c17a0",
   "metadata": {},
   "outputs": [],
   "source": []
  }
 ],
 "metadata": {
  "kernelspec": {
   "display_name": "Python 3 (ipykernel)",
   "language": "python",
   "name": "python3"
  },
  "language_info": {
   "codemirror_mode": {
    "name": "ipython",
    "version": 3
   },
   "file_extension": ".py",
   "mimetype": "text/x-python",
   "name": "python",
   "nbconvert_exporter": "python",
   "pygments_lexer": "ipython3",
   "version": "3.9.13"
  }
 },
 "nbformat": 4,
 "nbformat_minor": 5
}
